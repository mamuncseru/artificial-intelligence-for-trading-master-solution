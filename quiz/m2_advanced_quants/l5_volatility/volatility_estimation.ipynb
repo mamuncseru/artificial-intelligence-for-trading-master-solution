{
 "cells": [
  {
   "cell_type": "code",
   "execution_count": 5,
   "metadata": {},
   "outputs": [
    {
     "name": "stdout",
     "output_type": "stream",
     "text": [
      "Most recent volatility estimate: 103.602885\n"
     ]
    }
   ],
   "source": [
    "import pandas as pd\n",
    "import numpy as np\n",
    "\n",
    "def estimate_volatility(prices, l):\n",
    "    \"\"\"Create an exponential moving average model of the volatility of a stock\n",
    "    price, and return the most recent (last) volatility estimate.\n",
    "    \n",
    "    Parameters\n",
    "    ----------\n",
    "    prices : pandas.Series\n",
    "        A series of adjusted closing prices for a stock.\n",
    "        \n",
    "    l : float\n",
    "        The 'lambda' parameter of the exponential moving average model. Making\n",
    "        this value smaller will cause the model to weight older terms less \n",
    "        relative to more recent terms.\n",
    "        \n",
    "    Returns\n",
    "    -------\n",
    "    last_vol : float\n",
    "        The last element of your exponential moving averge volatility model series.\n",
    "    \n",
    "    \"\"\"\n",
    "    # TODO: Implement the exponential moving average volatility model and return the last value.\n",
    "    \n",
    "    return prices.ewm(com=l).mean().std()\n",
    "    \n",
    "def test_run(filename='data.csv'):\n",
    "    \"\"\"Test run get_most_volatile() with stock prices from a file.\"\"\"\n",
    "    prices = pd.read_csv(filename, parse_dates=['date'], index_col='date', squeeze=True)\n",
    "    print(\"Most recent volatility estimate: {:.6f}\".format(estimate_volatility(prices, 0.7)))\n",
    "\n",
    "\n",
    "if __name__ == '__main__':\n",
    "    test_run()"
   ]
  },
  {
   "cell_type": "code",
   "execution_count": null,
   "metadata": {},
   "outputs": [],
   "source": []
  }
 ],
 "metadata": {
  "kernelspec": {
   "display_name": "Python 3",
   "language": "python",
   "name": "python3"
  },
  "language_info": {
   "codemirror_mode": {
    "name": "ipython",
    "version": 3
   },
   "file_extension": ".py",
   "mimetype": "text/x-python",
   "name": "python",
   "nbconvert_exporter": "python",
   "pygments_lexer": "ipython3",
   "version": "3.7.3"
  }
 },
 "nbformat": 4,
 "nbformat_minor": 2
}
